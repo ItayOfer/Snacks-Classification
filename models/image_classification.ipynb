{
  "nbformat": 4,
  "nbformat_minor": 0,
  "metadata": {
    "colab": {
      "provenance": [],
      "gpuType": "T4"
    },
    "kernelspec": {
      "name": "python3",
      "display_name": "Python 3"
    },
    "language_info": {
      "name": "python"
    },
    "accelerator": "GPU"
  },
  "cells": [
    {
      "cell_type": "code",
      "execution_count": null,
      "metadata": {
        "id": "ArWzV32GPU7K"
      },
      "outputs": [],
      "source": [
        "import os\n",
        "import pandas as pd\n",
        "import numpy as np\n",
        "\n",
        "from sklearn.metrics import confusion_matrix\n",
        "from tensorflow import device\n",
        "from tensorflow.keras.models import Model, Sequential\n",
        "from tensorflow.keras.layers import Dense, GlobalAveragePooling2D\n",
        "from tensorflow.keras.callbacks import EarlyStopping\n",
        "from tensorflow.keras.preprocessing.image import ImageDataGenerator\n",
        "from tensorflow.keras.utils import load_img, img_to_array\n",
        "from tensorflow.keras.applications.mobilenet_v2 import MobileNetV2, preprocess_input\n",
        "from tensorflow.keras import Model\n",
        "from tensorflow.keras.losses import CategoricalCrossentropy\n",
        "from tensorflow.keras.models import load_model"
      ]
    },
    {
      "cell_type": "code",
      "source": [
        "from google.colab import drive\n",
        "drive.mount('/content/drive')\n",
        "%cd /content/drive/MyDrive/snacks"
      ],
      "metadata": {
        "id": "iYfZ33tPRKmc"
      },
      "execution_count": null,
      "outputs": []
    },
    {
      "cell_type": "code",
      "source": [
        "#!unzip foods_final.zip"
      ],
      "metadata": {
        "id": "5kInWOGIRM-O"
      },
      "execution_count": null,
      "outputs": []
    },
    {
      "cell_type": "code",
      "source": [
        "IMG_HEIGHT = 224\n",
        "IMG_WIDTH = 224\n",
        "batch_size = 20\n",
        "epochs = 20\n",
        "train_dir = 'train/'\n",
        "test_dir = 'test/'"
      ],
      "metadata": {
        "id": "RWrt0d9a-r8u"
      },
      "execution_count": null,
      "outputs": []
    },
    {
      "cell_type": "code",
      "source": [
        "# ImageDataGenerator used for training\n",
        "# Decided to ultimately not use image augmentation due to long training times\n",
        "train_datagen = ImageDataGenerator(\n",
        "    preprocessing_function = preprocess_input,\n",
        "    validation_split=0.1,\n",
        "    #rotation_range = 30,\n",
        "    #zoom_range = 0.15,\n",
        "    #width_shift_range = 0.1,\n",
        "    #height_shift_range = 0.1,\n",
        "    #shear_range = 0.1,\n",
        "    horizontal_flip = True,\n",
        "    fill_mode = 'nearest'\n",
        "  )"
      ],
      "metadata": {
        "id": "hAhs4MnARiu5"
      },
      "execution_count": null,
      "outputs": []
    },
    {
      "cell_type": "code",
      "source": [
        "train_generator = train_datagen.flow_from_directory(\n",
        "    directory = train_dir,\n",
        "    target_size = (IMG_HEIGHT, IMG_WIDTH),\n",
        "    batch_size = batch_size,\n",
        "    shuffle = True,\n",
        "    seed = 42,\n",
        "    subset = \"training\"\n",
        ")\n",
        "\n",
        "valid_generator = train_datagen.flow_from_directory(\n",
        "    directory = train_dir,\n",
        "    target_size = (IMG_HEIGHT, IMG_WIDTH),\n",
        "    batch_size = batch_size,\n",
        "    shuffle = True,\n",
        "    seed = 42,\n",
        "    subset = \"validation\"\n",
        ")"
      ],
      "metadata": {
        "id": "2jNcQnZHXSub"
      },
      "execution_count": null,
      "outputs": []
    },
    {
      "cell_type": "code",
      "source": [
        "# MobileNetV2 to be finetuned for our data\n",
        "base_model = MobileNetV2(weights='imagenet', include_top=False, input_shape = (IMG_HEIGHT, IMG_WIDTH, 3))\n",
        "base_out = base_model.output\n",
        "out = Dense(6, activation=\"sigmoid\")(GlobalAveragePooling2D()(base_out))\n",
        "model = Model(inputs = base_model.input, outputs = out)"
      ],
      "metadata": {
        "id": "9lMUK8t9Fb-r"
      },
      "execution_count": null,
      "outputs": []
    },
    {
      "cell_type": "code",
      "source": [
        "# Froze first 130 layers, finetuned the latter ones\n",
        "for layer in model.layers[:130]:\n",
        "    layer.trainable = False\n",
        "for layer in model.layers[130:]:\n",
        "    layer.trainable = True\n",
        "\n",
        "model.compile(optimizer=\"adam\",\n",
        "              loss=CategoricalCrossentropy(),\n",
        "              metrics=['accuracy'])"
      ],
      "metadata": {
        "id": "yjBc7y96IH1t"
      },
      "execution_count": null,
      "outputs": []
    },
    {
      "cell_type": "code",
      "source": [
        "with device('/device:GPU:0'):\n",
        "  callbacks = [EarlyStopping(monitor='val_accuracy', patience=5, restore_best_weights=True)]\n",
        "  history = model.fit(train_generator,\n",
        "                      validation_data = valid_generator,\n",
        "                      epochs=epochs, callbacks=callbacks, verbose=1)"
      ],
      "metadata": {
        "id": "pQBm_wAjIN_S"
      },
      "execution_count": null,
      "outputs": []
    },
    {
      "cell_type": "code",
      "source": [
        "model.save(\"image_model.keras\")"
      ],
      "metadata": {
        "id": "vJvq62w8e8uu"
      },
      "execution_count": null,
      "outputs": []
    },
    {
      "cell_type": "code",
      "source": [
        "model = load_model('image_model.keras')"
      ],
      "metadata": {
        "id": "L2J9fdkY8D1-"
      },
      "execution_count": null,
      "outputs": []
    },
    {
      "cell_type": "code",
      "source": [
        "# Testing against validation data\n",
        "valid_generator.reset()\n",
        "y_true = np.array([])\n",
        "i = 0\n",
        "while i < valid_generator.__len__():\n",
        "  _, y = valid_generator.next()\n",
        "  y_true = np.append(y_true, np.argmax(y, axis=1))\n",
        "  i += 1\n",
        "\n",
        "valid_generator.reset()\n",
        "y_pred = model.predict(valid_generator)\n",
        "y_pred = np.argmax(y_pred, axis = 1)"
      ],
      "metadata": {
        "id": "j4zxfkP38weo"
      },
      "execution_count": null,
      "outputs": []
    },
    {
      "cell_type": "code",
      "source": [
        "# Validation confusion matrix\n",
        "pd.DataFrame(\n",
        "    confusion_matrix(y_true, y_pred),\n",
        "    index=['true:cakes', 'true:candy', 'true:chips', 'true:chocolate', 'true:cookies', 'true:seeds'],\n",
        "    columns=['pred:cakes', 'pred:candy', 'pred:chips', 'pred:chocolate', 'pred:cookies', 'pred:seeds'])"
      ],
      "metadata": {
        "colab": {
          "base_uri": "https://localhost:8080/",
          "height": 237
        },
        "id": "bORJ0cij85xW",
        "outputId": "11d53cfb-6c97-463b-de4b-126b9e1f684f"
      },
      "execution_count": null,
      "outputs": [
        {
          "output_type": "execute_result",
          "data": {
            "text/plain": [
              "                pred:cakes  pred:candy  pred:chips  pred:chocolate  \\\n",
              "true:cakes             246          35          15              32   \n",
              "true:candy              14         494          37              74   \n",
              "true:chips               1          20         281               6   \n",
              "true:chocolate          10          69          12             227   \n",
              "true:cookies            51          38          22              49   \n",
              "true:seeds               5          29          43              21   \n",
              "\n",
              "                pred:cookies  pred:seeds  \n",
              "true:cakes                19          31  \n",
              "true:candy                 9         130  \n",
              "true:chips                 3          57  \n",
              "true:chocolate            11          48  \n",
              "true:cookies             276          92  \n",
              "true:seeds                 6         660  "
            ],
            "text/html": [
              "\n",
              "\n",
              "  <div id=\"df-002da4f8-f8a5-4d21-a6fd-56dbb752a56a\">\n",
              "    <div class=\"colab-df-container\">\n",
              "      <div>\n",
              "<style scoped>\n",
              "    .dataframe tbody tr th:only-of-type {\n",
              "        vertical-align: middle;\n",
              "    }\n",
              "\n",
              "    .dataframe tbody tr th {\n",
              "        vertical-align: top;\n",
              "    }\n",
              "\n",
              "    .dataframe thead th {\n",
              "        text-align: right;\n",
              "    }\n",
              "</style>\n",
              "<table border=\"1\" class=\"dataframe\">\n",
              "  <thead>\n",
              "    <tr style=\"text-align: right;\">\n",
              "      <th></th>\n",
              "      <th>pred:cakes</th>\n",
              "      <th>pred:candy</th>\n",
              "      <th>pred:chips</th>\n",
              "      <th>pred:chocolate</th>\n",
              "      <th>pred:cookies</th>\n",
              "      <th>pred:seeds</th>\n",
              "    </tr>\n",
              "  </thead>\n",
              "  <tbody>\n",
              "    <tr>\n",
              "      <th>true:cakes</th>\n",
              "      <td>246</td>\n",
              "      <td>35</td>\n",
              "      <td>15</td>\n",
              "      <td>32</td>\n",
              "      <td>19</td>\n",
              "      <td>31</td>\n",
              "    </tr>\n",
              "    <tr>\n",
              "      <th>true:candy</th>\n",
              "      <td>14</td>\n",
              "      <td>494</td>\n",
              "      <td>37</td>\n",
              "      <td>74</td>\n",
              "      <td>9</td>\n",
              "      <td>130</td>\n",
              "    </tr>\n",
              "    <tr>\n",
              "      <th>true:chips</th>\n",
              "      <td>1</td>\n",
              "      <td>20</td>\n",
              "      <td>281</td>\n",
              "      <td>6</td>\n",
              "      <td>3</td>\n",
              "      <td>57</td>\n",
              "    </tr>\n",
              "    <tr>\n",
              "      <th>true:chocolate</th>\n",
              "      <td>10</td>\n",
              "      <td>69</td>\n",
              "      <td>12</td>\n",
              "      <td>227</td>\n",
              "      <td>11</td>\n",
              "      <td>48</td>\n",
              "    </tr>\n",
              "    <tr>\n",
              "      <th>true:cookies</th>\n",
              "      <td>51</td>\n",
              "      <td>38</td>\n",
              "      <td>22</td>\n",
              "      <td>49</td>\n",
              "      <td>276</td>\n",
              "      <td>92</td>\n",
              "    </tr>\n",
              "    <tr>\n",
              "      <th>true:seeds</th>\n",
              "      <td>5</td>\n",
              "      <td>29</td>\n",
              "      <td>43</td>\n",
              "      <td>21</td>\n",
              "      <td>6</td>\n",
              "      <td>660</td>\n",
              "    </tr>\n",
              "  </tbody>\n",
              "</table>\n",
              "</div>\n",
              "      <button class=\"colab-df-convert\" onclick=\"convertToInteractive('df-002da4f8-f8a5-4d21-a6fd-56dbb752a56a')\"\n",
              "              title=\"Convert this dataframe to an interactive table.\"\n",
              "              style=\"display:none;\">\n",
              "\n",
              "  <svg xmlns=\"http://www.w3.org/2000/svg\" height=\"24px\"viewBox=\"0 0 24 24\"\n",
              "       width=\"24px\">\n",
              "    <path d=\"M0 0h24v24H0V0z\" fill=\"none\"/>\n",
              "    <path d=\"M18.56 5.44l.94 2.06.94-2.06 2.06-.94-2.06-.94-.94-2.06-.94 2.06-2.06.94zm-11 1L8.5 8.5l.94-2.06 2.06-.94-2.06-.94L8.5 2.5l-.94 2.06-2.06.94zm10 10l.94 2.06.94-2.06 2.06-.94-2.06-.94-.94-2.06-.94 2.06-2.06.94z\"/><path d=\"M17.41 7.96l-1.37-1.37c-.4-.4-.92-.59-1.43-.59-.52 0-1.04.2-1.43.59L10.3 9.45l-7.72 7.72c-.78.78-.78 2.05 0 2.83L4 21.41c.39.39.9.59 1.41.59.51 0 1.02-.2 1.41-.59l7.78-7.78 2.81-2.81c.8-.78.8-2.07 0-2.86zM5.41 20L4 18.59l7.72-7.72 1.47 1.35L5.41 20z\"/>\n",
              "  </svg>\n",
              "      </button>\n",
              "\n",
              "\n",
              "\n",
              "    <div id=\"df-ce50e563-f981-44ac-aa23-9be5adc8cd62\">\n",
              "      <button class=\"colab-df-quickchart\" onclick=\"quickchart('df-ce50e563-f981-44ac-aa23-9be5adc8cd62')\"\n",
              "              title=\"Suggest charts.\"\n",
              "              style=\"display:none;\">\n",
              "\n",
              "<svg xmlns=\"http://www.w3.org/2000/svg\" height=\"24px\"viewBox=\"0 0 24 24\"\n",
              "     width=\"24px\">\n",
              "    <g>\n",
              "        <path d=\"M19 3H5c-1.1 0-2 .9-2 2v14c0 1.1.9 2 2 2h14c1.1 0 2-.9 2-2V5c0-1.1-.9-2-2-2zM9 17H7v-7h2v7zm4 0h-2V7h2v10zm4 0h-2v-4h2v4z\"/>\n",
              "    </g>\n",
              "</svg>\n",
              "      </button>\n",
              "    </div>\n",
              "\n",
              "<style>\n",
              "  .colab-df-quickchart {\n",
              "    background-color: #E8F0FE;\n",
              "    border: none;\n",
              "    border-radius: 50%;\n",
              "    cursor: pointer;\n",
              "    display: none;\n",
              "    fill: #1967D2;\n",
              "    height: 32px;\n",
              "    padding: 0 0 0 0;\n",
              "    width: 32px;\n",
              "  }\n",
              "\n",
              "  .colab-df-quickchart:hover {\n",
              "    background-color: #E2EBFA;\n",
              "    box-shadow: 0px 1px 2px rgba(60, 64, 67, 0.3), 0px 1px 3px 1px rgba(60, 64, 67, 0.15);\n",
              "    fill: #174EA6;\n",
              "  }\n",
              "\n",
              "  [theme=dark] .colab-df-quickchart {\n",
              "    background-color: #3B4455;\n",
              "    fill: #D2E3FC;\n",
              "  }\n",
              "\n",
              "  [theme=dark] .colab-df-quickchart:hover {\n",
              "    background-color: #434B5C;\n",
              "    box-shadow: 0px 1px 3px 1px rgba(0, 0, 0, 0.15);\n",
              "    filter: drop-shadow(0px 1px 2px rgba(0, 0, 0, 0.3));\n",
              "    fill: #FFFFFF;\n",
              "  }\n",
              "</style>\n",
              "\n",
              "    <script>\n",
              "      async function quickchart(key) {\n",
              "        const containerElement = document.querySelector('#' + key);\n",
              "        const charts = await google.colab.kernel.invokeFunction(\n",
              "            'suggestCharts', [key], {});\n",
              "      }\n",
              "    </script>\n",
              "\n",
              "      <script>\n",
              "\n",
              "function displayQuickchartButton(domScope) {\n",
              "  let quickchartButtonEl =\n",
              "    domScope.querySelector('#df-ce50e563-f981-44ac-aa23-9be5adc8cd62 button.colab-df-quickchart');\n",
              "  quickchartButtonEl.style.display =\n",
              "    google.colab.kernel.accessAllowed ? 'block' : 'none';\n",
              "}\n",
              "\n",
              "        displayQuickchartButton(document);\n",
              "      </script>\n",
              "      <style>\n",
              "    .colab-df-container {\n",
              "      display:flex;\n",
              "      flex-wrap:wrap;\n",
              "      gap: 12px;\n",
              "    }\n",
              "\n",
              "    .colab-df-convert {\n",
              "      background-color: #E8F0FE;\n",
              "      border: none;\n",
              "      border-radius: 50%;\n",
              "      cursor: pointer;\n",
              "      display: none;\n",
              "      fill: #1967D2;\n",
              "      height: 32px;\n",
              "      padding: 0 0 0 0;\n",
              "      width: 32px;\n",
              "    }\n",
              "\n",
              "    .colab-df-convert:hover {\n",
              "      background-color: #E2EBFA;\n",
              "      box-shadow: 0px 1px 2px rgba(60, 64, 67, 0.3), 0px 1px 3px 1px rgba(60, 64, 67, 0.15);\n",
              "      fill: #174EA6;\n",
              "    }\n",
              "\n",
              "    [theme=dark] .colab-df-convert {\n",
              "      background-color: #3B4455;\n",
              "      fill: #D2E3FC;\n",
              "    }\n",
              "\n",
              "    [theme=dark] .colab-df-convert:hover {\n",
              "      background-color: #434B5C;\n",
              "      box-shadow: 0px 1px 3px 1px rgba(0, 0, 0, 0.15);\n",
              "      filter: drop-shadow(0px 1px 2px rgba(0, 0, 0, 0.3));\n",
              "      fill: #FFFFFF;\n",
              "    }\n",
              "  </style>\n",
              "\n",
              "      <script>\n",
              "        const buttonEl =\n",
              "          document.querySelector('#df-002da4f8-f8a5-4d21-a6fd-56dbb752a56a button.colab-df-convert');\n",
              "        buttonEl.style.display =\n",
              "          google.colab.kernel.accessAllowed ? 'block' : 'none';\n",
              "\n",
              "        async function convertToInteractive(key) {\n",
              "          const element = document.querySelector('#df-002da4f8-f8a5-4d21-a6fd-56dbb752a56a');\n",
              "          const dataTable =\n",
              "            await google.colab.kernel.invokeFunction('convertToInteractive',\n",
              "                                                     [key], {});\n",
              "          if (!dataTable) return;\n",
              "\n",
              "          const docLinkHtml = 'Like what you see? Visit the ' +\n",
              "            '<a target=\"_blank\" href=https://colab.research.google.com/notebooks/data_table.ipynb>data table notebook</a>'\n",
              "            + ' to learn more about interactive tables.';\n",
              "          element.innerHTML = '';\n",
              "          dataTable['output_type'] = 'display_data';\n",
              "          await google.colab.output.renderOutput(dataTable, element);\n",
              "          const docLink = document.createElement('div');\n",
              "          docLink.innerHTML = docLinkHtml;\n",
              "          element.appendChild(docLink);\n",
              "        }\n",
              "      </script>\n",
              "    </div>\n",
              "  </div>\n"
            ]
          },
          "metadata": {},
          "execution_count": 18
        }
      ]
    },
    {
      "cell_type": "code",
      "source": [
        "# Preprocessing function to predict on all of the data\n",
        "target_size = (IMG_HEIGHT, IMG_WIDTH)\n",
        "def preprocess_img(image_path, target_size=target_size):\n",
        "  img = load_img(image_path, target_size=target_size)\n",
        "  img_array = img_to_array(img)\n",
        "  img_array = preprocess_input(img_array)\n",
        "  img_array = np.expand_dims(img_array, axis=0)\n",
        "  return img_array"
      ],
      "metadata": {
        "id": "-gf_NhsrXOAE"
      },
      "execution_count": null,
      "outputs": []
    },
    {
      "cell_type": "code",
      "source": [
        "res_dict = {0:\"cake\", 1:\"candy\", 2:\"savory\",\n",
        "            3:\"chocolate\", 4:\"cookie\", 5:\"seeds\"}\n",
        "d = dict()\n",
        "paths = ['train/cakes_cupcakes_snack_cakes', 'train/candy', 'train/chips_pretzels_snacks',\n",
        "         'train/chocolate', 'train/cookies_biscuits', 'train/popcorn_peanuts_seeds_related_snacks',\n",
        "         'test/unlabeled']"
      ],
      "metadata": {
        "id": "qTt5hMNVEPqS"
      },
      "execution_count": null,
      "outputs": []
    },
    {
      "cell_type": "code",
      "source": [
        "# Predicting on all of the data - top 1 prediction\n",
        "with device('/device:GPU:0'):\n",
        "  for image_folder in paths:\n",
        "    for filename in os.listdir(image_folder):\n",
        "      if filename.endswith('.jpg'):\n",
        "            image_path = os.path.join(image_folder, filename)\n",
        "            processed_image = preprocess_img(image_path, target_size)\n",
        "            prediction = model.predict(processed_image)\n",
        "            predicted_value = np.argmax(prediction[0]) # Get prediction\n",
        "            image_number = int(filename.split('.')[0])\n",
        "            d[image_number] = res_dict[predicted_value]"
      ],
      "metadata": {
        "id": "t8PHYlOKbAxc"
      },
      "execution_count": null,
      "outputs": []
    },
    {
      "cell_type": "code",
      "source": [
        "df = pd.DataFrame.from_dict(d, orient=\"index\", columns=[\"img_class\"])\n",
        "df.to_csv(\"image_classification.csv\")"
      ],
      "metadata": {
        "id": "f6cuGYrcETKV"
      },
      "execution_count": null,
      "outputs": []
    },
    {
      "cell_type": "code",
      "source": [
        "d = dict()"
      ],
      "metadata": {
        "id": "wW4l0hck6FHA"
      },
      "execution_count": null,
      "outputs": []
    },
    {
      "cell_type": "code",
      "source": [
        "# Predicting on all of the data - probabilities and ranks\n",
        "with device('/device:GPU:0'):\n",
        "  for image_folder in paths:\n",
        "    for filename in os.listdir(image_folder):\n",
        "      if filename.endswith('.jpg'):\n",
        "            image_path = os.path.join(image_folder, filename)\n",
        "            processed_image = preprocess_img(image_path, target_size)\n",
        "            prediction = model.predict(processed_image)\n",
        "            res = list(prediction[0]) + list(prediction[0].argsort().argsort()) # Get probabilities and their respective ranks\n",
        "            image_number = int(filename.split('.')[0])\n",
        "            d[image_number] = res"
      ],
      "metadata": {
        "id": "NcxYmvzm6Dz5"
      },
      "execution_count": null,
      "outputs": []
    },
    {
      "cell_type": "code",
      "source": [
        "df = pd.DataFrame.from_dict(d, orient=\"index\", columns=[\"prob_\" + cat for cat in [\"cake\", \"candy\", \"savory\", \"chocolate\", \"cookie\", \"seeds\"]]+\\\n",
        "                                                       [\"rank_\" + cat for cat in [\"cake\", \"candy\", \"savory\", \"chocolate\", \"cookie\", \"seeds\"]])\n",
        "df.to_csv(\"image_data.csv\")"
      ],
      "metadata": {
        "id": "3Z_pfczg7w-T"
      },
      "execution_count": null,
      "outputs": []
    }
  ]
}